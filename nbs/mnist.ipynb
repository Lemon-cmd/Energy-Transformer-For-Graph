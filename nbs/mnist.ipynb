{
 "cells": [
  {
   "cell_type": "code",
   "execution_count": 1,
   "id": "155ae8d3-4d51-4adb-b993-c3453e87ceba",
   "metadata": {
    "execution": {
     "iopub.execute_input": "2023-05-23T09:02:13.990367Z",
     "iopub.status.busy": "2023-05-23T09:02:13.989701Z",
     "iopub.status.idle": "2023-05-23T09:02:18.751689Z",
     "shell.execute_reply": "2023-05-23T09:02:18.750306Z"
    }
   },
   "outputs": [
    {
     "name": "stdout",
     "output_type": "stream",
     "text": [
      "env: XLA_PYTHON_CLIENT_ALLOCATOR=platform\n"
     ]
    },
    {
     "name": "stderr",
     "output_type": "stream",
     "text": [
      "/usr/local/lib/python3.10/dist-packages/tqdm/auto.py:21: TqdmWarning: IProgress not found. Please update jupyter and ipywidgets. See https://ipywidgets.readthedocs.io/en/stable/user_install.html\n",
      "  from .autonotebook import tqdm as notebook_tqdm\n"
     ]
    }
   ],
   "source": [
    "%load_ext autoreload\n",
    "%autoreload 2\n",
    "%env XLA_PYTHON_CLIENT_ALLOCATOR=platform\n",
    "\n",
    "import random\n",
    "import matplotlib.pyplot as plt\n",
    "\n",
    "import chex\n",
    "import jax\n",
    "import flax\n",
    "import torch\n",
    "import optax\n",
    "import numpy as np\n",
    "import jax.numpy as jnp\n",
    "import flax.linen as nn\n",
    "from einops import rearrange\n",
    "from flax.training import train_state, checkpoints\n",
    "\n",
    "from torch_geometric.data import Data, Dataset\n",
    "from torch_geometric.loader import DataLoader\n",
    "from torch_geometric.datasets import GNNBenchmarkDataset, TUDataset\n",
    "\n",
    "from src import get_nparams, get_graph, to_device_split, init_model, train_loop, eval_nfold, eval_loop"
   ]
  },
  {
   "cell_type": "code",
   "execution_count": 2,
   "id": "0b347e2c-3645-4962-8f08-3f4b16e5de94",
   "metadata": {
    "execution": {
     "iopub.execute_input": "2023-05-23T09:02:18.757324Z",
     "iopub.status.busy": "2023-05-23T09:02:18.756909Z",
     "iopub.status.idle": "2023-05-23T09:02:18.800339Z",
     "shell.execute_reply": "2023-05-23T09:02:18.799436Z"
    }
   },
   "outputs": [],
   "source": [
    "from typing import Callable\n",
    "from functools import partial\n",
    "import jax.experimental.sparse as jsparse\n",
    "from optax._src.loss import smooth_labels, softmax_cross_entropy\n",
    "\n",
    "smooth_labels = jax.vmap(partial(smooth_labels, alpha=0.05))\n",
    "softmax_cross_entropy = jax.vmap(partial(softmax_cross_entropy))\n",
    "\n",
    "@jax.vmap\n",
    "def Accuracy(preds: jnp.ndarray, targets: jnp.ndarray):\n",
    "    chex.assert_equal_shape((preds, targets))\n",
    "    return (preds == targets).mean()\n",
    "\n",
    "\n",
    "@jax.vmap\n",
    "def l2_loss(preds: jnp.ndarray, targets: jnp.ndarray):\n",
    "    chex.assert_equal_shape((preds, targets))\n",
    "    return jnp.square(preds - targets).sum() / jnp.count_nonzero(targets)\n",
    "    \n",
    "\n",
    "def compute_loss(\n",
    "    params,\n",
    "    data: dict,\n",
    "    apply_fn: Callable,\n",
    "    kclasses: int,\n",
    "    to_device: bool,\n",
    "    **kwargs\n",
    "):\n",
    "    \n",
    "    labels = data.pop('Y')\n",
    "    \n",
    "    # CLS, X, A, stats\n",
    "    results = apply_fn({'params': params}, data['X'], data['A'], data['P'], data['key'], False, True)\n",
    "    \n",
    "    logits = results['CLS']\n",
    "    \n",
    "    loss = softmax_cross_entropy(\n",
    "        logits, \n",
    "        smooth_labels(jax.nn.one_hot(labels, kclasses))\n",
    "    ).mean() + l2_loss(results['A'], data['A']).mean()\n",
    "        \n",
    "    accuracy = Accuracy(jnp.argmax(logits, axis=-1).squeeze(), labels).mean()\n",
    "        \n",
    "    if to_device:\n",
    "        loss, accuracy = map(lambda x : jax.lax.pmean(x, 'batch'), (loss, accuracy))\n",
    "        \n",
    "    return loss, accuracy"
   ]
  },
  {
   "cell_type": "code",
   "execution_count": 3,
   "id": "ec8cde03-eec5-4e9b-b793-38c541ee444c",
   "metadata": {
    "execution": {
     "iopub.execute_input": "2023-05-23T09:02:18.805417Z",
     "iopub.status.busy": "2023-05-23T09:02:18.805262Z",
     "iopub.status.idle": "2023-05-23T09:02:19.680794Z",
     "shell.execute_reply": "2023-05-23T09:02:19.679505Z"
    }
   },
   "outputs": [],
   "source": [
    "model_name = data_name = 'MNIST'\n",
    "saved_dir = \"./saved_models/\" + model_name\n",
    "path = './stats/' + model_name + '_stats.npy'\n",
    "\n",
    "batch_size = 128 * len(jax.local_devices())\n",
    "\n",
    "train_data = GNNBenchmarkDataset(root = '../data/', name = data_name, split = 'train')\n",
    "test_data = GNNBenchmarkDataset(root = '../data/', name = data_name, split = 'test')\n",
    "valid_data = GNNBenchmarkDataset(root = '../data/', name = data_name, split = 'val')"
   ]
  },
  {
   "cell_type": "code",
   "execution_count": 4,
   "id": "d3cdd4a8-72fd-4bff-b219-ee22c7d158f8",
   "metadata": {
    "execution": {
     "iopub.execute_input": "2023-05-23T09:02:19.686072Z",
     "iopub.status.busy": "2023-05-23T09:02:19.685890Z",
     "iopub.status.idle": "2023-05-23T09:02:39.712321Z",
     "shell.execute_reply": "2023-05-23T09:02:39.710205Z"
    }
   },
   "outputs": [
    {
     "name": "stdout",
     "output_type": "stream",
     "text": [
      "PARAMS COUNT: 528980\n"
     ]
    }
   ],
   "source": [
    "from src import GraphImageET as GraphET\n",
    "\n",
    "k = 15                       # N x k pos_embedding dim we want to use (2 * k if we use svd)\n",
    "kclasses = 10                # output dim\n",
    "embed_type = 'eigen'         # pos_embedding type\n",
    "task_level = 'graph'         # graph or node level \n",
    "to_device = True\n",
    "max_num_nodes = 500\n",
    "\n",
    "model = GraphET(\n",
    "    embed_dim = 128,\n",
    "    out_dim = kclasses, \n",
    "    nheads = 12,\n",
    "    alpha = 0.25,\n",
    "    depth = 4,\n",
    "    block = 2,\n",
    "    head_dim = 64,\n",
    "    multiplier = 4.,\n",
    "    dtype = jnp.float32,\n",
    "    kernel_size = [3, 3],\n",
    "    kernel_dilation = [1, 1],\n",
    "    compute_corr = True,\n",
    "    vary_noise = False,\n",
    "    chn_atype = 'relu',\n",
    "    noise_std = 0.02,\n",
    ")\n",
    "\n",
    "key = jax.random.PRNGKey(42)\n",
    "\n",
    "params = init_model(\n",
    "    DataLoader(train_data, batch_size = 1), key, model, k, embed_type, task_level)\n",
    "\n",
    "print(\"PARAMS COUNT:\", get_nparams(params))"
   ]
  },
  {
   "cell_type": "code",
   "execution_count": 5,
   "id": "9ae2ff8e-f898-4561-9c52-485795327121",
   "metadata": {
    "execution": {
     "iopub.execute_input": "2023-05-23T09:02:39.718860Z",
     "iopub.status.busy": "2023-05-23T09:02:39.718518Z",
     "iopub.status.idle": "2023-05-23T09:02:39.874477Z",
     "shell.execute_reply": "2023-05-23T09:02:39.872389Z"
    }
   },
   "outputs": [],
   "source": [
    "def seed_worker(worker_id):\n",
    "    worker_seed = torch.initial_seed() % 2 ** 32\n",
    "    np.random.seed(worker_seed)\n",
    "    random.seed(worker_seed)\n",
    "\n",
    "g = torch.Generator()\n",
    "key, _ = jax.random.split(key)\n",
    "g.manual_seed(3407 + int(jnp.mean(key)))\n",
    "\n",
    "train_loader, valid_loader, test_loader = map(\n",
    "    lambda x : DataLoader(x, shuffle = True, batch_size = batch_size, worker_init_fn = seed_worker, generator = g), \n",
    "    (train_data, valid_data, test_data)\n",
    ")"
   ]
  },
  {
   "cell_type": "code",
   "execution_count": 6,
   "id": "bc0b9bd7-fabd-4702-95db-07dcb3f1de41",
   "metadata": {
    "execution": {
     "iopub.execute_input": "2023-05-23T09:02:39.881194Z",
     "iopub.status.busy": "2023-05-23T09:02:39.880844Z",
     "iopub.status.idle": "2023-05-23T09:02:40.676908Z",
     "shell.execute_reply": "2023-05-23T09:02:40.674997Z"
    }
   },
   "outputs": [],
   "source": [
    "epochs = 150\n",
    "\n",
    "warmup_steps = 50 * len(train_loader) \n",
    "total_steps = len(train_loader) * epochs\n",
    "\n",
    "scheduler = optax.warmup_cosine_decay_schedule(\n",
    "    init_value = 1e-3,\n",
    "    peak_value = 1e-3,\n",
    "    warmup_steps = warmup_steps,\n",
    "    decay_steps = total_steps,\n",
    "    end_value = 5e-5,\n",
    ")\n",
    "\n",
    "optimizer = optax.chain(\n",
    "    optax.centralize(),\n",
    "    optax.adamw(\n",
    "        learning_rate = scheduler, \n",
    "        weight_decay=0.05,\n",
    "        b1=0.9,\n",
    "        b2=0.99,\n",
    "    ),\n",
    ")    \n",
    "\n",
    "state = train_state.TrainState.create(apply_fn = model.apply, params = params, tx = optimizer)\n",
    "state = checkpoints.restore_checkpoint(ckpt_dir = saved_dir, target = state)\n",
    "\n",
    "if to_device:\n",
    "    state = flax.jax_utils.replicate(state)"
   ]
  },
  {
   "cell_type": "code",
   "execution_count": 7,
   "id": "0d56867d-4d6c-43da-b8b2-02ba99d915d9",
   "metadata": {
    "execution": {
     "iopub.execute_input": "2023-05-23T09:02:40.683359Z",
     "iopub.status.busy": "2023-05-23T09:02:40.683090Z",
     "iopub.status.idle": "2023-05-23T09:02:40.736674Z",
     "shell.execute_reply": "2023-05-23T09:02:40.735118Z"
    }
   },
   "outputs": [],
   "source": [
    "train_compute_loss = partial(compute_loss, to_device=False, kclasses=kclasses, apply_fn=state.apply_fn)\n",
    "\n",
    "valid_compute_loss = jax.pmap(\n",
    "    partial(compute_loss, to_device=to_device, kclasses=kclasses, apply_fn=state.apply_fn),\n",
    "    axis_name='batch',\n",
    "    in_axes=(0, {'X': 0, 'Y': 0, 'P': 0, 'A': 0, 'key': 0})\n",
    ")\n",
    "\n",
    "get_train_data = partial(\n",
    "    get_graph, \n",
    "    max_num_nodes = max_num_nodes, \n",
    "    k = k, \n",
    "    embed_type = embed_type,\n",
    "    task_level = task_level,\n",
    "    to_device = to_device,\n",
    "    flip_sign = True,\n",
    ")\n",
    " \n",
    "get_valid_data = partial(\n",
    "    get_graph, \n",
    "    max_num_nodes = max_num_nodes, \n",
    "    k = k, \n",
    "    embed_type = embed_type,\n",
    "    task_level = task_level,\n",
    "    to_device = to_device,\n",
    "    flip_sign = False,\n",
    ")"
   ]
  },
  {
   "cell_type": "code",
   "execution_count": 8,
   "id": "6349e784-e773-4181-9269-1f99d2ad8578",
   "metadata": {
    "execution": {
     "iopub.execute_input": "2023-05-23T09:02:40.742666Z",
     "iopub.status.busy": "2023-05-23T09:02:40.742419Z",
     "iopub.status.idle": "2023-05-23T12:48:38.558286Z",
     "shell.execute_reply": "2023-05-23T12:48:38.557154Z"
    }
   },
   "outputs": [
    {
     "name": "stderr",
     "output_type": "stream",
     "text": [
      "100%|██████████████████████████████████████████████████████████████████████████████████████████████████████████████████████████████████████████████████████████████████████████████████████████| 150/150 [3:45:57<00:00, 90.38s/it, train_accuracy=0.982, train_loss=0.358, val_accuracy=0.971, val_loss=0.385]\n"
     ]
    },
    {
     "name": "stdout",
     "output_type": "stream",
     "text": [
      "Saved statistics to ./stats/MNIST_stats.npy\n",
      "Total epochs: 150.0\n"
     ]
    }
   ],
   "source": [
    "key, state = train_loop(\n",
    "    state, \n",
    "    {'train': train_loader, 'valid': valid_loader},\n",
    "    {'train': get_train_data, 'valid': get_valid_data},\n",
    "    train_compute_loss,\n",
    "    valid_compute_loss,\n",
    "    epochs,\n",
    "    path = path\n",
    ")\n",
    "\n",
    "print(\"Total epochs:\", jnp.mean(state.step / len(train_loader)))"
   ]
  },
  {
   "cell_type": "code",
   "execution_count": 9,
   "id": "642ea691-40a3-480f-b621-2b2247787bc4",
   "metadata": {
    "execution": {
     "iopub.execute_input": "2023-05-23T12:48:38.564413Z",
     "iopub.status.busy": "2023-05-23T12:48:38.564199Z",
     "iopub.status.idle": "2023-05-23T12:48:38.989509Z",
     "shell.execute_reply": "2023-05-23T12:48:38.988643Z"
    },
    "tags": []
   },
   "outputs": [
    {
     "data": {
      "image/png": "[encoded data removed]",
      "text/plain": [
       "<Figure size 640x480 with 1 Axes>"
      ]
     },
     "metadata": {},
     "output_type": "display_data"
    },
    {
     "data": {
      "image/png": "[encoded data removed]",
      "text/plain": [
       "<Figure size 640x480 with 1 Axes>"
      ]
     },
     "metadata": {},
     "output_type": "display_data"
    },
    {
     "data": {
      "text/plain": [
       "'saved_models/MNIST/checkpoint_16200'"
      ]
     },
     "execution_count": 9,
     "metadata": {},
     "output_type": "execute_result"
    }
   ],
   "source": [
    "# 4 columns: train-loss train-accuracy valid-loss valid-accuracy\n",
    "stats = np.loadtxt(path)\n",
    "\n",
    "if len(stats.shape) == 1:\n",
    "    stats = stats[None]\n",
    "\n",
    "train_loss, valid_loss = stats[:, 0], stats[:, 2]\n",
    "train_accuracy, valid_accuracy = stats[:, 1], stats[:, 3]\n",
    "\n",
    "# total epochs\n",
    "xlimit = np.arange(1, stats.shape[0] + 1)\n",
    "\n",
    "plt.title('Training and Validation Loss')\n",
    "plt.plot(xlimit, train_loss, label = 'train')\n",
    "plt.plot(xlimit, valid_loss, '-.', label = 'valid')\n",
    "plt.legend()\n",
    "plt.show()\n",
    "\n",
    "plt.title('Training and Validation Accuracy')\n",
    "plt.plot(xlimit, train_accuracy, label = 'train')\n",
    "plt.plot(xlimit, valid_accuracy, '-.', label = 'valid')\n",
    "plt.legend()\n",
    "plt.show()\n",
    "\n",
    "if to_device:\n",
    "    state = flax.jax_utils.unreplicate(state)\n",
    "    to_device = False\n",
    "\n",
    "checkpoints.save_checkpoint(ckpt_dir = saved_dir, target = state, overwrite = True, step = epochs * len(train_loader))"
   ]
  }
 ],
 "metadata": {
  "kernelspec": {
   "display_name": "Python 3 (ipykernel)",
   "language": "python",
   "name": "python3"
  },
  "language_info": {
   "codemirror_mode": {
    "name": "ipython",
    "version": 3
   },
   "file_extension": ".py",
   "mimetype": "text/x-python",
   "name": "python",
   "nbconvert_exporter": "python",
   "pygments_lexer": "ipython3",
   "version": "3.10.6"
  }
 },
 "nbformat": 4,
 "nbformat_minor": 5
}
