{
 "cells": [
  {
   "cell_type": "code",
   "execution_count": 1,
   "id": "d4309377-f746-4fdc-a6f5-b5142b150eba",
   "metadata": {
    "execution": {
     "iopub.execute_input": "2023-05-15T19:48:18.915059Z",
     "iopub.status.busy": "2023-05-15T19:48:18.914415Z",
     "iopub.status.idle": "2023-05-15T19:48:35.145120Z",
     "shell.execute_reply": "2023-05-15T19:48:35.143943Z"
    }
   },
   "outputs": [
    {
     "name": "stdout",
     "output_type": "stream",
     "text": [
      "env: XLA_PYTHON_CLIENT_ALLOCATOR=platform\n"
     ]
    },
    {
     "name": "stderr",
     "output_type": "stream",
     "text": [
      "/skunk-pod-storage-phamb-40rpi-2eedu-pvc/miniconda3/lib/python3.10/site-packages/tqdm/auto.py:22: TqdmWarning: IProgress not found. Please update jupyter and ipywidgets. See https://ipywidgets.readthedocs.io/en/stable/user_install.html\n",
      "  from .autonotebook import tqdm as notebook_tqdm\n",
      "2023-05-15 19:48:28.744134: W tensorflow/compiler/tf2tensorrt/utils/py_utils.cc:38] TF-TRT Warning: Could not find TensorRT\n"
     ]
    }
   ],
   "source": [
    "%load_ext autoreload\n",
    "%autoreload 2\n",
    "%env XLA_PYTHON_CLIENT_ALLOCATOR=platform\n",
    "\n",
    "import matplotlib.pyplot as plt\n",
    "\n",
    "import numpy as np\n",
    "import jax.numpy as jnp\n",
    "from flax.training import train_state, checkpoints\n",
    "\n",
    "from torch_geometric.loader import DataLoader\n",
    "from torch_geometric.datasets import GNNBenchmarkDataset, TUDataset\n",
    "\n",
    "from src import get_nparams, get_graph, to_device_split, init_model, train_loop, eval_nfold, eval_loop"
   ]
  },
  {
   "cell_type": "code",
   "execution_count": 2,
   "id": "dba908ed-36e0-41c5-b117-831b1fa0f6d8",
   "metadata": {
    "execution": {
     "iopub.execute_input": "2023-05-15T19:48:35.149563Z",
     "iopub.status.busy": "2023-05-15T19:48:35.148995Z",
     "iopub.status.idle": "2023-05-15T19:48:35.224040Z",
     "shell.execute_reply": "2023-05-15T19:48:35.222866Z"
    }
   },
   "outputs": [],
   "source": [
    "from typing import Callable\n",
    "from functools import partial\n",
    "import jax.experimental.sparse as jsparse\n",
    "from optax._src.loss import smooth_labels, softmax_cross_entropy\n",
    "\n",
    "smooth_labels = jax.vmap(partial(smooth_labels, alpha=0.05))\n",
    "softmax_cross_entropy = jax.vmap(partial(softmax_cross_entropy))\n",
    "\n",
    "@jax.vmap\n",
    "def Accuracy(preds: jnp.ndarray, targets: jnp.ndarray):\n",
    "    chex.assert_equal_shape((preds, targets))\n",
    "    return (preds == targets).mean()\n",
    "\n",
    "\n",
    "def compute_loss(\n",
    "    params,\n",
    "    data: dict,\n",
    "    apply_fn: Callable,\n",
    "    kclasses: int,\n",
    "    to_device: bool,\n",
    "    **kwargs\n",
    "):\n",
    "    \n",
    "    labels = data.pop('Y')\n",
    "    \n",
    "    # CLS, X, A, stats\n",
    "    results = apply_fn({'params': params}, data['X'], data['A'], data['P'], data['key'], False, True)\n",
    "    \n",
    "    logits = results['CLS']\n",
    "    \n",
    "    loss = softmax_cross_entropy(\n",
    "        logits, smooth_labels(jax.nn.one_hot(labels, kclasses))\n",
    "    ).mean()\n",
    "    \n",
    "    accuracy = Accuracy(jnp.argmax(logits, axis=-1).squeeze(), labels).mean()\n",
    "        \n",
    "    if to_device:\n",
    "        loss, accuracy = map(lambda x : jax.lax.pmean(x, 'batch'), (loss, accuracy))\n",
    "        \n",
    "    return loss, accuracy"
   ]
  },
  {
   "cell_type": "code",
   "execution_count": 3,
   "id": "4d6b5aab-516a-4a6d-8ac3-0c9aef847b8b",
   "metadata": {
    "execution": {
     "iopub.execute_input": "2023-05-15T19:48:35.230675Z",
     "iopub.status.busy": "2023-05-15T19:48:35.230019Z",
     "iopub.status.idle": "2023-05-15T19:48:35.390881Z",
     "shell.execute_reply": "2023-05-15T19:48:35.389932Z"
    }
   },
   "outputs": [],
   "source": [
    "model_name = data_name = 'DD'      # change name\n",
    "saved_dir = \"./saved_models/\" + model_name\n",
    "path = './stats/' + model_name + '_stats.npy'\n",
    "\n",
    "batch_size = 64 # 32 * 2\n",
    "valid_loader = None\n",
    "train_data = TUDataset(root = '../data/', name = data_name, use_node_attr=True)"
   ]
  },
  {
   "cell_type": "code",
   "execution_count": 4,
   "id": "2b6e36c1-0377-493c-8a4d-37d5ee2162a9",
   "metadata": {
    "execution": {
     "iopub.execute_input": "2023-05-15T19:48:35.396811Z",
     "iopub.status.busy": "2023-05-15T19:48:35.396472Z",
     "iopub.status.idle": "2023-05-15T19:49:02.748101Z",
     "shell.execute_reply": "2023-05-15T19:49:02.746725Z"
    }
   },
   "outputs": [
    {
     "name": "stdout",
     "output_type": "stream",
     "text": [
      "PARAMS COUNT: 1064834\n"
     ]
    }
   ],
   "source": [
    "from src import GraphET\n",
    "\n",
    "k = 15                       # N x k pos_embedding dim we want to use (2 * k if we use svd)\n",
    "kclasses = 10                # output dim\n",
    "embed_type = 'eigen'         # pos_embedding type\n",
    "task_level = 'graph'         # graph or node level \n",
    "to_device = True\n",
    "max_num_nodes = 500\n",
    "\n",
    "model = GraphET(\n",
    "    embed_dim = 128,\n",
    "    out_dim = kclasses, \n",
    "    nheads = 12,\n",
    "    alpha = 0.1,\n",
    "    depth = 1,\n",
    "    block = 4,\n",
    "    head_dim = 64,\n",
    "    multiplier = 4.,\n",
    "    dtype = jnp.float32,\n",
    "    kernel_size = [3, 3],\n",
    "    kernel_dilation = [1, 1],\n",
    "    compute_corr = True,\n",
    "    vary_noise = False,\n",
    "    chn_atype = 'relu',\n",
    ")\n",
    "\n",
    "key = jax.random.PRNGKey(42)\n",
    "\n",
    "params = init_model(\n",
    "    DataLoader(train_data, batch_size = 1), key, model, k, embed_type, task_level)\n",
    "\n",
    "print(\"PARAMS COUNT:\", get_nparams(params))"
   ]
  },
  {
   "cell_type": "code",
   "execution_count": 5,
   "id": "54be79e7-c453-40f5-abe2-a20df3e11a7d",
   "metadata": {
    "execution": {
     "iopub.execute_input": "2023-05-15T19:49:02.755073Z",
     "iopub.status.busy": "2023-05-15T19:49:02.754371Z",
     "iopub.status.idle": "2023-05-15T19:49:02.966305Z",
     "shell.execute_reply": "2023-05-15T19:49:02.964621Z"
    }
   },
   "outputs": [],
   "source": [
    "def seed_worker(worker_id):\n",
    "    worker_seed = torch.initial_seed() % 2 ** 32\n",
    "    np.random.seed(worker_seed)\n",
    "    random.seed(worker_seed)\n",
    "\n",
    "g = torch.Generator()\n",
    "key, _ = jax.random.split(key)\n",
    "g.manual_seed(3407 + int(jnp.mean(key)))\n",
    "\n",
    "train_loader = DataLoader(train_data, shuffle = True, batch_size = batch_size, worker_init_fn = seed_worker, generator = g)"
   ]
  },
  {
   "cell_type": "code",
   "execution_count": 6,
   "id": "8b193184-33fa-456b-9352-61d83ff7bf78",
   "metadata": {
    "execution": {
     "iopub.execute_input": "2023-05-15T19:49:02.973276Z",
     "iopub.status.busy": "2023-05-15T19:49:02.972417Z",
     "iopub.status.idle": "2023-05-15T19:49:04.062335Z",
     "shell.execute_reply": "2023-05-15T19:49:04.061337Z"
    }
   },
   "outputs": [],
   "source": [
    "epochs = 300\n",
    "\n",
    "warmup_steps = 50 * len(train_loader) \n",
    "total_steps = len(train_loader) * epochs\n",
    "\n",
    "scheduler = optax.warmup_cosine_decay_schedule(\n",
    "    init_value = 5e-6,\n",
    "    peak_value = 1e-3,\n",
    "    warmup_steps = warmup_steps,\n",
    "    decay_steps = total_steps,\n",
    "    end_value = 5e-6,\n",
    ")\n",
    "\n",
    "optimizer = optax.chain(\n",
    "    optax.centralize(),\n",
    "    optax.adamw(\n",
    "        learning_rate = scheduler, \n",
    "        weight_decay=0.05,\n",
    "        b1=0.9,\n",
    "        b2=0.99,\n",
    "    ),\n",
    ")    \n",
    "\n",
    "state = train_state.TrainState.create(apply_fn = model.apply, params = params, tx = optimizer)\n",
    "state = checkpoints.restore_checkpoint(ckpt_dir = saved_dir, target = state)\n",
    "\n",
    "if to_device:\n",
    "    state = flax.jax_utils.replicate(state)"
   ]
  },
  {
   "cell_type": "code",
   "execution_count": 7,
   "id": "bf842a58-bb48-4401-abb2-bd9abbeaadb6",
   "metadata": {
    "execution": {
     "iopub.execute_input": "2023-05-15T19:49:04.069880Z",
     "iopub.status.busy": "2023-05-15T19:49:04.068752Z",
     "iopub.status.idle": "2023-05-15T19:49:04.153252Z",
     "shell.execute_reply": "2023-05-15T19:49:04.152515Z"
    }
   },
   "outputs": [],
   "source": [
    "train_compute_loss = partial(compute_loss, to_device=False, kclasses=kclasses, apply_fn=state.apply_fn)\n",
    "\n",
    "valid_compute_loss = jax.pmap(\n",
    "    partial(compute_loss, to_device=to_device, kclasses=kclasses, apply_fn=state.apply_fn),\n",
    "    axis_name='batch',\n",
    "    in_axes=(0, {'X': 0, 'Y': 0, 'P': 0, 'A': 0, 'key': 0})\n",
    ")\n",
    "\n",
    "get_train_data = partial(\n",
    "    get_graph, \n",
    "    max_num_nodes = max_num_nodes, \n",
    "    k = k, \n",
    "    embed_type = embed_type,\n",
    "    task_level = task_level,\n",
    "    to_device = to_device,\n",
    "    flip_sign = True\n",
    ")\n",
    " \n",
    "get_valid_data = partial(\n",
    "    get_graph, \n",
    "    max_num_nodes = max_num_nodes, \n",
    "    k = k, \n",
    "    embed_type = embed_type,\n",
    "    task_level = task_level,\n",
    "    to_device = to_device,\n",
    "    flip_sign = False\n",
    ")"
   ]
  },
  {
   "cell_type": "code",
   "execution_count": 8,
   "id": "9352362a-37ac-4f6e-a1d7-82f27d19da2d",
   "metadata": {
    "execution": {
     "iopub.execute_input": "2023-05-15T19:49:04.158779Z",
     "iopub.status.busy": "2023-05-15T19:49:04.158466Z",
     "iopub.status.idle": "2023-05-15T22:55:37.526547Z",
     "shell.execute_reply": "2023-05-15T22:55:37.525279Z"
    }
   },
   "outputs": [
    {
     "name": "stderr",
     "output_type": "stream",
     "text": [
      "100%|███████████████████████████████████████████████████████████████████████████████████████████████| 300/300 [3:06:32<00:00, 37.31s/it, train_accuracy=0.98, train_loss=0.35, val_accuracy=0, val_loss=0]\n"
     ]
    },
    {
     "name": "stdout",
     "output_type": "stream",
     "text": [
      "Saved statistics to ./etc/DD_stats.npy\n",
      "Total epochs: 300.0\n"
     ]
    }
   ],
   "source": [
    "key, state = train_loop(\n",
    "    state, \n",
    "    {'train': train_loader, 'valid': valid_loader},\n",
    "    {'train': get_train_data, 'valid': get_valid_data},\n",
    "    train_compute_loss,\n",
    "    valid_compute_loss,\n",
    "    epochs,\n",
    "    path = path\n",
    ")\n",
    "\n",
    "print(\"Total epochs:\", jnp.mean(state.step / len(train_loader)))"
   ]
  },
  {
   "cell_type": "code",
   "execution_count": 9,
   "id": "8a05d99a-f788-4dcd-9f54-96bd0f227e5f",
   "metadata": {
    "execution": {
     "iopub.execute_input": "2023-05-15T22:55:37.532849Z",
     "iopub.status.busy": "2023-05-15T22:55:37.532502Z",
     "iopub.status.idle": "2023-05-15T22:55:40.534784Z",
     "shell.execute_reply": "2023-05-15T22:55:40.533651Z"
    }
   },
   "outputs": [
    {
     "data": {
      "image/png": "[encoded data removed]",
      "text/plain": [
       "<Figure size 640x480 with 1 Axes>"
      ]
     },
     "metadata": {},
     "output_type": "display_data"
    },
    {
     "data": {
      "image/png": "[encoded data removed]",
      "text/plain": [
       "<Figure size 640x480 with 1 Axes>"
      ]
     },
     "metadata": {},
     "output_type": "display_data"
    },
    {
     "data": {
      "text/plain": [
       "'etc/saved_models/DD/checkpoint_5700'"
      ]
     },
     "execution_count": 9,
     "metadata": {},
     "output_type": "execute_result"
    }
   ],
   "source": [
    "# 4 columns: train-loss train-accuracy valid-loss valid-accuracy\n",
    "stats = np.loadtxt(path)\n",
    "\n",
    "if len(stats.shape) == 1:\n",
    "    stats = stats[None]\n",
    "\n",
    "train_loss, valid_loss = stats[:, 0], stats[:, 2]\n",
    "train_accuracy, valid_accuracy = stats[:, 1], stats[:, 3]\n",
    "\n",
    "# total epochs\n",
    "xlimit = np.arange(1, stats.shape[0] + 1)\n",
    "\n",
    "plt.title('Training Loss')\n",
    "plt.plot(xlimit, train_loss, label = 'train')\n",
    "plt.legend()\n",
    "plt.show()\n",
    "\n",
    "plt.title('Training Accuracy')\n",
    "plt.plot(xlimit, train_accuracy, label = 'train')\n",
    "plt.legend()\n",
    "plt.show()\n",
    "\n",
    "if to_device:\n",
    "    state = flax.jax_utils.unreplicate(state)\n",
    "    to_device = False\n",
    "\n",
    "checkpoints.save_checkpoint(ckpt_dir = saved_dir, target = state, overwrite = True, step = epochs * len(train_loader))"
   ]
  }
 ],
 "metadata": {
  "kernelspec": {
   "display_name": "Python 3 (ipykernel)",
   "language": "python",
   "name": "python3"
  },
  "language_info": {
   "codemirror_mode": {
    "name": "ipython",
    "version": 3
   },
   "file_extension": ".py",
   "mimetype": "text/x-python",
   "name": "python",
   "nbconvert_exporter": "python",
   "pygments_lexer": "ipython3",
   "version": "3.10.8"
  }
 },
 "nbformat": 4,
 "nbformat_minor": 5
}
