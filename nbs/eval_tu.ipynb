{
 "cells": [
  {
   "cell_type": "code",
   "execution_count": 1,
   "id": "ac2c9737-f3a3-4327-915b-8df83ae1ec73",
   "metadata": {
    "execution": {
     "iopub.execute_input": "2023-05-16T00:00:24.898807Z",
     "iopub.status.busy": "2023-05-16T00:00:24.897547Z",
     "iopub.status.idle": "2023-05-16T00:00:39.122690Z",
     "shell.execute_reply": "2023-05-16T00:00:39.121591Z"
    }
   },
   "outputs": [
    {
     "name": "stdout",
     "output_type": "stream",
     "text": [
      "env: XLA_PYTHON_CLIENT_ALLOCATOR=platform\n"
     ]
    },
    {
     "name": "stderr",
     "output_type": "stream",
     "text": [
      "/skunk-pod-storage-phamb-40rpi-2eedu-pvc/miniconda3/lib/python3.10/site-packages/tqdm/auto.py:22: TqdmWarning: IProgress not found. Please update jupyter and ipywidgets. See https://ipywidgets.readthedocs.io/en/stable/user_install.html\n",
      "  from .autonotebook import tqdm as notebook_tqdm\n",
      "2023-05-16 00:00:33.633525: W tensorflow/compiler/tf2tensorrt/utils/py_utils.cc:38] TF-TRT Warning: Could not find TensorRT\n"
     ]
    }
   ],
   "source": [
    "%load_ext autoreload\n",
    "%autoreload 2\n",
    "%env XLA_PYTHON_CLIENT_ALLOCATOR=platform\n",
    "\n",
    "import tqdm \n",
    "import random\n",
    "import matplotlib.pyplot as plt\n",
    "\n",
    "import chex\n",
    "import jax\n",
    "import flax\n",
    "import torch\n",
    "import optax\n",
    "import numpy as np\n",
    "import jax.numpy as jnp\n",
    "import flax.linen as nn\n",
    "from einops import rearrange\n",
    "from flax.training import train_state, checkpoints\n",
    "\n",
    "from torch_geometric.data import Data, Dataset\n",
    "from torch_geometric.loader import DataLoader\n",
    "from torch_geometric.datasets import GNNBenchmarkDataset, TUDataset\n",
    "\n",
    "from src import get_nparams, get_graph, to_device_split, init_model, train_loop, eval_nfold, eval_loop"
   ]
  },
  {
   "cell_type": "code",
   "execution_count": 2,
   "id": "1d26430e-d8a7-4bce-a952-73df211d3a8c",
   "metadata": {
    "execution": {
     "iopub.execute_input": "2023-05-16T00:00:39.129317Z",
     "iopub.status.busy": "2023-05-16T00:00:39.128713Z",
     "iopub.status.idle": "2023-05-16T00:00:39.200631Z",
     "shell.execute_reply": "2023-05-16T00:00:39.199381Z"
    }
   },
   "outputs": [],
   "source": [
    "from typing import Callable\n",
    "from functools import partial\n",
    "import jax.experimental.sparse as jsparse\n",
    "from optax._src.loss import smooth_labels, softmax_cross_entropy\n",
    "\n",
    "smooth_labels = jax.vmap(partial(smooth_labels, alpha=0.05))\n",
    "softmax_cross_entropy = jax.vmap(partial(softmax_cross_entropy))\n",
    "\n",
    "@jax.vmap\n",
    "def Accuracy(preds: jnp.ndarray, targets: jnp.ndarray):\n",
    "    chex.assert_equal_shape((preds, targets))\n",
    "    return (preds == targets).mean()\n",
    "\n",
    "\n",
    "def compute_loss(\n",
    "    params,\n",
    "    data: dict,\n",
    "    apply_fn: Callable,\n",
    "    kclasses: int,\n",
    "    to_device: bool,\n",
    "    **kwargs\n",
    "):\n",
    "    \n",
    "    labels = data.pop('Y')\n",
    "    \n",
    "    # CLS, X, A, stats\n",
    "    results = apply_fn({'params': params}, data['X'], data['A'], data['P'], data['key'], False, True)\n",
    "    \n",
    "    logits = results['CLS']\n",
    "    \n",
    "    loss = softmax_cross_entropy(\n",
    "        logits, \n",
    "        jax.nn.one_hot(labels, kclasses)\n",
    "    ).mean()\n",
    "    \n",
    "    accuracy = Accuracy(jnp.argmax(logits, axis=-1).squeeze(), labels).mean()\n",
    "        \n",
    "    if to_device:\n",
    "        loss, accuracy = map(lambda x : jax.lax.pmean(x, 'batch'), (loss, accuracy))\n",
    "        \n",
    "    return loss, accuracy"
   ]
  },
  {
   "cell_type": "code",
   "execution_count": 3,
   "id": "70c9b811-f118-416d-b7e2-0b67469d04ab",
   "metadata": {
    "execution": {
     "iopub.execute_input": "2023-05-16T00:00:39.206439Z",
     "iopub.status.busy": "2023-05-16T00:00:39.206020Z",
     "iopub.status.idle": "2023-05-16T00:00:39.261113Z",
     "shell.execute_reply": "2023-05-16T00:00:39.260281Z"
    }
   },
   "outputs": [],
   "source": [
    "# doesn't really do anything... only need to reload state\n",
    "def get_opt():\n",
    "    epochs = 1\n",
    "    total_steps = 10\n",
    "\n",
    "    scheduler = optax.warmup_cosine_decay_schedule(\n",
    "        init_value = 5e-6,\n",
    "        peak_value = 1e-3,\n",
    "        warmup_steps = 1,\n",
    "        decay_steps = total_steps,\n",
    "        end_value = 5e-6,\n",
    "    )\n",
    "\n",
    "    optimizer = optax.chain(\n",
    "        optax.centralize(),\n",
    "        optax.adamw(\n",
    "            learning_rate = scheduler, \n",
    "            weight_decay=0.05,\n",
    "            b1=0.9,\n",
    "            b2=0.99,\n",
    "        ),\n",
    "    )\n",
    "    \n",
    "    return optimizer"
   ]
  },
  {
   "cell_type": "code",
   "execution_count": 4,
   "id": "86b2e386-f764-43d9-9790-289ede89748a",
   "metadata": {
    "execution": {
     "iopub.execute_input": "2023-05-16T00:00:39.266272Z",
     "iopub.status.busy": "2023-05-16T00:00:39.265982Z",
     "iopub.status.idle": "2023-05-16T00:00:39.311670Z",
     "shell.execute_reply": "2023-05-16T00:00:39.310316Z"
    }
   },
   "outputs": [],
   "source": [
    "datasets = [\n",
    "    'Mutagenicity',\n",
    "    'DD', \n",
    "    'FRANKENSTEIN', \n",
    "    'NCI1', \n",
    "    'NCI109', \n",
    "    'MUTAG',\n",
    "    'ENZYMES', \n",
    "    'PROTEINS'\n",
    "]\n",
    "\n",
    "roots = ['../data/' + name for name in datasets]\n",
    "dirs = ['./saved_models/' + name for name in datasets]"
   ]
  },
  {
   "cell_type": "code",
   "execution_count": 5,
   "id": "8196eb5f-15c5-435c-907d-f044f4010a6b",
   "metadata": {
    "execution": {
     "iopub.execute_input": "2023-05-16T00:00:39.316595Z",
     "iopub.status.busy": "2023-05-16T00:00:39.316304Z",
     "iopub.status.idle": "2023-05-16T00:00:42.340235Z",
     "shell.execute_reply": "2023-05-16T00:00:42.338707Z"
    }
   },
   "outputs": [],
   "source": [
    "from src import GraphET\n",
    "\n",
    "k = 15                       # N x k pos_embedding dim we want to use (2 * k if we use svd)\n",
    "kclasses = 10                # output dim\n",
    "embed_type = 'eigen'         # pos_embedding type\n",
    "task_level = 'graph'         # graph or node level \n",
    "to_device = True\n",
    "max_num_nodes = 500\n",
    "\n",
    "model = GraphET(\n",
    "    embed_dim = 128,\n",
    "    out_dim = kclasses, \n",
    "    nheads = 12,\n",
    "    alpha = 0.1,\n",
    "    depth = 1,\n",
    "    block = 4,\n",
    "    head_dim = 64,\n",
    "    multiplier = 4.,\n",
    "    dtype = jnp.float32,\n",
    "    kernel_size = [3, 3],\n",
    "    kernel_dilation = [1, 1],\n",
    "    compute_corr = True,\n",
    "    vary_noise = False,\n",
    "    chn_atype = 'relu',\n",
    "    noise_std = 0.02,\n",
    ")\n",
    "\n",
    "key = jax.random.PRNGKey(42)\n",
    "key, _ = jax.random.split(key)"
   ]
  },
  {
   "cell_type": "code",
   "execution_count": 6,
   "id": "15161a18-5d72-419e-8bfb-542a41e5c0c0",
   "metadata": {
    "execution": {
     "iopub.execute_input": "2023-05-16T00:00:42.346304Z",
     "iopub.status.busy": "2023-05-16T00:00:42.345884Z",
     "iopub.status.idle": "2023-05-16T00:00:42.432138Z",
     "shell.execute_reply": "2023-05-16T00:00:42.431064Z"
    }
   },
   "outputs": [],
   "source": [
    "get_valid_data = partial(\n",
    "    get_graph, \n",
    "    max_num_nodes = max_num_nodes, \n",
    "    k = k, \n",
    "    embed_type = embed_type,\n",
    "    task_level = task_level,\n",
    "    to_device = to_device,\n",
    "    flip_sign = False,\n",
    ")"
   ]
  },
  {
   "cell_type": "code",
   "execution_count": 7,
   "id": "29a6d8c7-7902-4eb6-a5bf-a71add937674",
   "metadata": {
    "execution": {
     "iopub.execute_input": "2023-05-16T00:00:42.437918Z",
     "iopub.status.busy": "2023-05-16T00:00:42.437529Z",
     "iopub.status.idle": "2023-05-16T00:00:42.508125Z",
     "shell.execute_reply": "2023-05-16T00:00:42.507125Z"
    }
   },
   "outputs": [],
   "source": [
    "def evaluate_model(root: str, data_name: str, saved_dir: str, model = model, n_evals: int = 100, nfolds: int = 10, batch_size: int = 64):    \n",
    "    data = TUDataset(root = root, name = data_name, use_node_attr=True)\n",
    "    \n",
    "    key = jax.random.PRNGKey(42)\n",
    "    params = init_model(DataLoader(data, batch_size = 1), key, model, k, embed_type, task_level)\n",
    "    \n",
    "    state = train_state.TrainState.create(apply_fn = model.apply, params = params, tx = get_opt())\n",
    "    state = checkpoints.restore_checkpoint(ckpt_dir = saved_dir, target = state)\n",
    "    \n",
    "    if to_device:\n",
    "        state = flax.jax_utils.replicate(state)\n",
    "    \n",
    "    valid_compute_loss = jax.pmap(\n",
    "        partial(compute_loss, to_device=to_device, kclasses=kclasses, apply_fn=state.apply_fn),\n",
    "        axis_name='batch',\n",
    "        in_axes=(0, {'X': 0, 'Y': 0, 'P': 0, 'A': 0, 'key': 0})\n",
    "    )\n",
    "    \n",
    "    losses = []\n",
    "    accuracies = []\n",
    "    for _ in range(n_evals):\n",
    "        loss_t, accu_t = eval_nfold(state, data, get_valid_data, valid_compute_loss, nfolds, batch_size = batch_size)\n",
    "        \n",
    "        losses.append(loss_t)\n",
    "        accuracies.append(accu_t)\n",
    "        \n",
    "    print(u\"DATASET: {0}\\tAvg-Loss: {1:.4f} \\u00B1 {2:.4f}\\tAvg-Accuracy: {3:.4f} \\u00B1 {4:.4f}\".format(\n",
    "        data_name, np.mean(losses) * 100, np.std(losses) * 100, np.mean(accuracies) * 100, np.std(accuracies) * 100))     "
   ]
  },
  {
   "cell_type": "code",
   "execution_count": 8,
   "id": "914983d5-9c4c-4700-914f-38b50bb02c0d",
   "metadata": {
    "execution": {
     "iopub.execute_input": "2023-05-16T00:00:42.513698Z",
     "iopub.status.busy": "2023-05-16T00:00:42.513339Z",
     "iopub.status.idle": "2023-05-16T06:33:40.596806Z",
     "shell.execute_reply": "2023-05-16T06:33:40.595412Z"
    },
    "scrolled": true,
    "tags": []
   },
   "outputs": [
    {
     "name": "stderr",
     "output_type": "stream",
     "text": [
      "  0%|                                                                                                                                                                               | 0/8 [00:00<?, ?it/s]"
     ]
    },
    {
     "name": "stdout",
     "output_type": "stream",
     "text": [
      "DATASET: Mutagenicity\tAvg-Loss: 10.3073 ± 0.1834\tAvg-Accuracy: 98.7300 ± 0.1008\n"
     ]
    },
    {
     "name": "stderr",
     "output_type": "stream",
     "text": [
      " 12%|████████████████████▏                                                                                                                                            | 1/8 [1:05:34<7:39:01, 3934.44s/it]"
     ]
    },
    {
     "name": "stdout",
     "output_type": "stream",
     "text": [
      "DATASET: DD\tAvg-Loss: 18.3298 ± 4.0314\tAvg-Accuracy: 95.9203 ± 0.8884\n"
     ]
    },
    {
     "name": "stderr",
     "output_type": "stream",
     "text": [
      " 25%|████████████████████████████████████████                                                                                                                        | 2/8 [3:32:36<11:20:57, 6809.63s/it]"
     ]
    },
    {
     "name": "stdout",
     "output_type": "stream",
     "text": [
      "DATASET: FRANKENSTEIN\tAvg-Loss: 5.1013 ± 0.3286\tAvg-Accuracy: 99.8785 ± 0.1173\n"
     ]
    },
    {
     "name": "stderr",
     "output_type": "stream",
     "text": [
      " 38%|████████████████████████████████████████████████████████████▍                                                                                                    | 3/8 [4:16:17<6:48:05, 4897.03s/it]"
     ]
    },
    {
     "name": "stdout",
     "output_type": "stream",
     "text": [
      "DATASET: NCI1\tAvg-Loss: 27.1267 ± 0.2113\tAvg-Accuracy: 90.1478 ± 0.1725\n"
     ]
    },
    {
     "name": "stderr",
     "output_type": "stream",
     "text": [
      " 50%|████████████████████████████████████████████████████████████████████████████████▌                                                                                | 4/8 [4:58:55<4:24:53, 3973.40s/it]"
     ]
    },
    {
     "name": "stdout",
     "output_type": "stream",
     "text": [
      "DATASET: NCI109\tAvg-Loss: 26.0300 ± 0.2392\tAvg-Accuracy: 90.5287 ± 0.1833\n"
     ]
    },
    {
     "name": "stderr",
     "output_type": "stream",
     "text": [
      " 75%|████████████████████████████████████████████████████████████████████████████████████████████████████████████████████████▊                                        | 6/8 [5:45:35<1:18:30, 2355.21s/it]"
     ]
    },
    {
     "name": "stdout",
     "output_type": "stream",
     "text": [
      "DATASET: MUTAG\tAvg-Loss: 12.2506 ± 0.4209\tAvg-Accuracy: 96.6046 ± 0.2304\n",
      "DATASET: ENZYMES\tAvg-Loss: 2.9489 ± 0.1966\tAvg-Accuracy: 99.8670 ± 0.0484\n"
     ]
    },
    {
     "name": "stderr",
     "output_type": "stream",
     "text": [
      " 88%|██████████████████████████████████████████████████████████████████████████████████████████████████████████████████████████████████████████████▋                    | 7/8 [5:54:49<29:26, 1766.37s/it]"
     ]
    },
    {
     "name": "stdout",
     "output_type": "stream",
     "text": [
      "DATASET: PROTEINS\tAvg-Loss: 24.4178 ± 5.3446\tAvg-Accuracy: 90.3508 ± 0.7359\n"
     ]
    },
    {
     "name": "stderr",
     "output_type": "stream",
     "text": [
      "100%|███████████████████████████████████████████████████████████████████████████████████████████████████████████████████████████████████████████████████████████████████| 8/8 [6:32:58<00:00, 2947.25s/it]\n"
     ]
    }
   ],
   "source": [
    "batch_size = 64\n",
    "\n",
    "for root, name, saved_dir in tqdm.tqdm(zip(roots, datasets, dirs), total=len(roots)):\n",
    "    evaluate_model(root, name, saved_dir, model, 100, nfolds = 10, batch_size = batch_size)"
   ]
  }
 ],
 "metadata": {
  "kernelspec": {
   "display_name": "Python 3 (ipykernel)",
   "language": "python",
   "name": "python3"
  },
  "language_info": {
   "codemirror_mode": {
    "name": "ipython",
    "version": 3
   },
   "file_extension": ".py",
   "mimetype": "text/x-python",
   "name": "python",
   "nbconvert_exporter": "python",
   "pygments_lexer": "ipython3",
   "version": "3.10.8"
  }
 },
 "nbformat": 4,
 "nbformat_minor": 5
}
