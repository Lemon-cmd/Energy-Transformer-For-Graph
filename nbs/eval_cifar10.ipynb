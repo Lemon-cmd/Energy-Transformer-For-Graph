{
 "cells": [
  {
   "cell_type": "code",
   "execution_count": 1,
   "id": "155ae8d3-4d51-4adb-b993-c3453e87ceba",
   "metadata": {
    "execution": {
     "iopub.execute_input": "2023-05-23T18:04:51.274544Z",
     "iopub.status.busy": "2023-05-23T18:04:51.273626Z",
     "iopub.status.idle": "2023-05-23T18:04:56.115979Z",
     "shell.execute_reply": "2023-05-23T18:04:56.114608Z"
    }
   },
   "outputs": [
    {
     "name": "stdout",
     "output_type": "stream",
     "text": [
      "env: XLA_PYTHON_CLIENT_ALLOCATOR=platform\n"
     ]
    },
    {
     "name": "stderr",
     "output_type": "stream",
     "text": [
      "/usr/local/lib/python3.10/dist-packages/tqdm/auto.py:21: TqdmWarning: IProgress not found. Please update jupyter and ipywidgets. See https://ipywidgets.readthedocs.io/en/stable/user_install.html\n",
      "  from .autonotebook import tqdm as notebook_tqdm\n"
     ]
    }
   ],
   "source": [
    "%load_ext autoreload\n",
    "%autoreload 2\n",
    "%env XLA_PYTHON_CLIENT_ALLOCATOR=platform\n",
    "\n",
    "import random\n",
    "import matplotlib.pyplot as plt\n",
    "\n",
    "import chex\n",
    "import jax\n",
    "import flax\n",
    "import torch\n",
    "import optax\n",
    "import numpy as np\n",
    "import jax.numpy as jnp\n",
    "import flax.linen as nn\n",
    "from einops import rearrange\n",
    "from flax.training import train_state, checkpoints\n",
    "\n",
    "from torch_geometric.data import Data, Dataset\n",
    "from torch_geometric.loader import DataLoader\n",
    "from torch_geometric.datasets import GNNBenchmarkDataset, TUDataset\n",
    "\n",
    "from src import get_nparams, get_graph, to_device_split, init_model, train_loop, eval_nfold, eval_loop"
   ]
  },
  {
   "cell_type": "code",
   "execution_count": 2,
   "id": "0b347e2c-3645-4962-8f08-3f4b16e5de94",
   "metadata": {
    "execution": {
     "iopub.execute_input": "2023-05-23T18:04:56.121903Z",
     "iopub.status.busy": "2023-05-23T18:04:56.121467Z",
     "iopub.status.idle": "2023-05-23T18:04:56.164612Z",
     "shell.execute_reply": "2023-05-23T18:04:56.163753Z"
    }
   },
   "outputs": [],
   "source": [
    "from typing import Callable\n",
    "from functools import partial\n",
    "import jax.experimental.sparse as jsparse\n",
    "from optax._src.loss import smooth_labels, softmax_cross_entropy\n",
    "\n",
    "smooth_labels = jax.vmap(partial(smooth_labels, alpha=0.05))\n",
    "softmax_cross_entropy = jax.vmap(partial(softmax_cross_entropy))\n",
    "\n",
    "@jax.vmap\n",
    "def Accuracy(preds: jnp.ndarray, targets: jnp.ndarray):\n",
    "    chex.assert_equal_shape((preds, targets))\n",
    "    return (preds == targets).mean()\n",
    "\n",
    "\n",
    "@jax.vmap\n",
    "def l2_loss(preds: jnp.ndarray, targets: jnp.ndarray):\n",
    "    chex.assert_equal_shape((preds, targets))\n",
    "    return jnp.square(preds - targets).sum() / jnp.where(targets == 0.0, 1.0, 0.0).sum()\n",
    "\n",
    "\n",
    "def compute_loss(\n",
    "    params,\n",
    "    data: dict,\n",
    "    apply_fn: Callable,\n",
    "    kclasses: int,\n",
    "    to_device: bool,\n",
    "    **kwargs\n",
    "):\n",
    "    \n",
    "    labels = data.pop('Y')\n",
    "    \n",
    "    # CLS, X, A, stats\n",
    "    results = apply_fn({'params': params}, data['X'], data['A'], data['P'], data['key'], False, True)\n",
    "    \n",
    "    logits = results['CLS']\n",
    "    \n",
    "    loss = softmax_cross_entropy(\n",
    "        logits, \n",
    "        smooth_labels(jax.nn.one_hot(labels, kclasses))\n",
    "    ).mean()\n",
    "        \n",
    "    accuracy = Accuracy(jnp.argmax(logits, axis=-1).squeeze(), labels).mean()\n",
    "        \n",
    "    if to_device:\n",
    "        loss, accuracy = map(lambda x : jax.lax.pmean(x, 'batch'), (loss, accuracy))\n",
    "        \n",
    "    return loss, accuracy"
   ]
  },
  {
   "cell_type": "code",
   "execution_count": 3,
   "id": "ec8cde03-eec5-4e9b-b793-38c541ee444c",
   "metadata": {
    "execution": {
     "iopub.execute_input": "2023-05-23T18:04:56.169840Z",
     "iopub.status.busy": "2023-05-23T18:04:56.169679Z",
     "iopub.status.idle": "2023-05-23T18:04:57.294105Z",
     "shell.execute_reply": "2023-05-23T18:04:57.292828Z"
    }
   },
   "outputs": [],
   "source": [
    "model_name = data_name = 'CIFAR10'\n",
    "saved_dir = \"./saved_models/\" + model_name\n",
    "path = './stats/' + model_name + '_stats.npy'\n",
    "\n",
    "batch_size = 128 * len(jax.local_devices())\n",
    "\n",
    "train_data = GNNBenchmarkDataset(root = '../data/', name = data_name, split = 'train')\n",
    "test_data = GNNBenchmarkDataset(root = '../data/', name = data_name, split = 'test')\n",
    "valid_data = GNNBenchmarkDataset(root = '../data/', name = data_name, split = 'val')"
   ]
  },
  {
   "cell_type": "code",
   "execution_count": 4,
   "id": "d3cdd4a8-72fd-4bff-b219-ee22c7d158f8",
   "metadata": {
    "execution": {
     "iopub.execute_input": "2023-05-23T18:04:57.299196Z",
     "iopub.status.busy": "2023-05-23T18:04:57.299043Z",
     "iopub.status.idle": "2023-05-23T18:05:19.098851Z",
     "shell.execute_reply": "2023-05-23T18:05:19.097158Z"
    }
   },
   "outputs": [
    {
     "name": "stdout",
     "output_type": "stream",
     "text": [
      "PARAMS COUNT: 529236\n"
     ]
    }
   ],
   "source": [
    "from src import GraphImageET as GraphET\n",
    "\n",
    "k = 15                       # N x k pos_embedding dim we want to use (2 * k if we use svd)\n",
    "kclasses = 10                # output dim\n",
    "embed_type = 'eigen'         # pos_embedding type\n",
    "task_level = 'graph'         # graph or node level \n",
    "to_device = True\n",
    "max_num_nodes = 500\n",
    "\n",
    "model = GraphET(\n",
    "    embed_dim = 128,\n",
    "    out_dim = kclasses, \n",
    "    nheads = 12,\n",
    "    alpha = 0.25,\n",
    "    depth = 4,\n",
    "    block = 2,\n",
    "    head_dim = 64,\n",
    "    multiplier = 4.,\n",
    "    dtype = jnp.float32,\n",
    "    kernel_size = [3, 3],\n",
    "    kernel_dilation = [1, 1],\n",
    "    compute_corr = True,\n",
    "    vary_noise = False,\n",
    "    chn_atype = 'relu',\n",
    "    noise_std = 0.02,\n",
    ")\n",
    "\n",
    "key = jax.random.PRNGKey(42)\n",
    "\n",
    "params = init_model(\n",
    "    DataLoader(train_data, batch_size = 1), key, model, k, embed_type, task_level)\n",
    "\n",
    "print(\"PARAMS COUNT:\", get_nparams(params))"
   ]
  },
  {
   "cell_type": "code",
   "execution_count": 5,
   "id": "9ae2ff8e-f898-4561-9c52-485795327121",
   "metadata": {
    "execution": {
     "iopub.execute_input": "2023-05-23T18:05:19.105023Z",
     "iopub.status.busy": "2023-05-23T18:05:19.104743Z",
     "iopub.status.idle": "2023-05-23T18:05:19.260249Z",
     "shell.execute_reply": "2023-05-23T18:05:19.258566Z"
    }
   },
   "outputs": [],
   "source": [
    "def seed_worker(worker_id):\n",
    "    worker_seed = torch.initial_seed() % 2 ** 32\n",
    "    np.random.seed(worker_seed)\n",
    "    random.seed(worker_seed)\n",
    "\n",
    "g = torch.Generator()\n",
    "key, _ = jax.random.split(key)\n",
    "g.manual_seed(3407 + int(jnp.mean(key)))\n",
    "\n",
    "train_loader, valid_loader, test_loader = map(\n",
    "    lambda x : DataLoader(x, shuffle = True, batch_size = batch_size, worker_init_fn = seed_worker, generator = g), \n",
    "    (train_data, valid_data, test_data)\n",
    ")"
   ]
  },
  {
   "cell_type": "code",
   "execution_count": 6,
   "id": "bc0b9bd7-fabd-4702-95db-07dcb3f1de41",
   "metadata": {
    "execution": {
     "iopub.execute_input": "2023-05-23T18:05:19.266603Z",
     "iopub.status.busy": "2023-05-23T18:05:19.266251Z",
     "iopub.status.idle": "2023-05-23T18:05:20.116571Z",
     "shell.execute_reply": "2023-05-23T18:05:20.114572Z"
    }
   },
   "outputs": [],
   "source": [
    "epochs = 150\n",
    "\n",
    "warmup_steps = 50 * len(train_loader) \n",
    "total_steps = len(train_loader) * epochs\n",
    "\n",
    "scheduler = optax.warmup_cosine_decay_schedule(\n",
    "    init_value = 1e-3,\n",
    "    peak_value = 1e-3,\n",
    "    warmup_steps = warmup_steps,\n",
    "    decay_steps = total_steps,\n",
    "    end_value = 5e-5,\n",
    ")\n",
    "\n",
    "optimizer = optax.chain(\n",
    "    optax.centralize(),\n",
    "    optax.adamw(\n",
    "        learning_rate = scheduler, \n",
    "        weight_decay=0.05,\n",
    "        b1=0.9,\n",
    "        b2=0.99,\n",
    "    ),\n",
    ")    \n",
    "\n",
    "state = train_state.TrainState.create(apply_fn = model.apply, params = params, tx = optimizer)\n",
    "state = checkpoints.restore_checkpoint(ckpt_dir = saved_dir, target = state)\n",
    "\n",
    "if to_device:\n",
    "    state = flax.jax_utils.replicate(state)"
   ]
  },
  {
   "cell_type": "code",
   "execution_count": 7,
   "id": "0d56867d-4d6c-43da-b8b2-02ba99d915d9",
   "metadata": {
    "execution": {
     "iopub.execute_input": "2023-05-23T18:05:20.122821Z",
     "iopub.status.busy": "2023-05-23T18:05:20.122558Z",
     "iopub.status.idle": "2023-05-23T18:05:20.174156Z",
     "shell.execute_reply": "2023-05-23T18:05:20.172417Z"
    }
   },
   "outputs": [],
   "source": [
    "train_compute_loss = partial(compute_loss, to_device=False, kclasses=kclasses, apply_fn=state.apply_fn)\n",
    "\n",
    "valid_compute_loss = jax.pmap(\n",
    "    partial(compute_loss, to_device=to_device, kclasses=kclasses, apply_fn=state.apply_fn),\n",
    "    axis_name='batch',\n",
    "    in_axes=(0, {'X': 0, 'Y': 0, 'P': 0, 'A': 0, 'key': 0})\n",
    ")\n",
    "\n",
    "get_valid_data = partial(\n",
    "    get_graph, \n",
    "    max_num_nodes = max_num_nodes, \n",
    "    k = k, \n",
    "    embed_type = embed_type,\n",
    "    task_level = task_level,\n",
    "    to_device = to_device,\n",
    "    flip_sign = False,\n",
    ")"
   ]
  },
  {
   "cell_type": "code",
   "execution_count": 8,
   "id": "98256b55-c895-4147-8578-d2296286fad6",
   "metadata": {
    "execution": {
     "iopub.execute_input": "2023-05-23T18:05:20.181051Z",
     "iopub.status.busy": "2023-05-23T18:05:20.179993Z",
     "iopub.status.idle": "2023-05-23T18:33:58.981552Z",
     "shell.execute_reply": "2023-05-23T18:33:58.980385Z"
    },
    "tags": []
   },
   "outputs": [
    {
     "name": "stderr",
     "output_type": "stream",
     "text": [
      "100%|█████████████████████████████████████████████████████████████████████████████████████████████████████████████████████████████████████████████████████████████████████████████████████████████████████████████████████████████████████████████████████████████████| 100/100 [28:38<00:00, 17.19s/it]"
     ]
    },
    {
     "name": "stdout",
     "output_type": "stream",
     "text": [
      "Accuracy: 63.920145928859704 ± 0.17325565849058666\n"
     ]
    },
    {
     "name": "stderr",
     "output_type": "stream",
     "text": [
      "\n"
     ]
    }
   ],
   "source": [
    "import tqdm\n",
    "\n",
    "A = []\n",
    "for _ in tqdm.tqdm(range(100)):\n",
    "    _, acc = eval_loop(\n",
    "            state,\n",
    "            test_loader,\n",
    "            get_valid_data,\n",
    "            valid_compute_loss,\n",
    "            True\n",
    "    )\n",
    "    \n",
    "    A.append(acc)\n",
    "print(u\"Accuracy: {0} \\u00B1 {1}\".format(np.mean(A) * 100, 100 * np.std(A)))"
   ]
  }
 ],
 "metadata": {
  "kernelspec": {
   "display_name": "Python 3 (ipykernel)",
   "language": "python",
   "name": "python3"
  },
  "language_info": {
   "codemirror_mode": {
    "name": "ipython",
    "version": 3
   },
   "file_extension": ".py",
   "mimetype": "text/x-python",
   "name": "python",
   "nbconvert_exporter": "python",
   "pygments_lexer": "ipython3",
   "version": "3.10.6"
  }
 },
 "nbformat": 4,
 "nbformat_minor": 5
}
